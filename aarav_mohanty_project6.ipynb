{
 "cells": [
  {
   "cell_type": "markdown",
   "id": "be02a957-7133-4d02-818e-fedeb3cecb05",
   "metadata": {},
   "source": [
    "# Project 6 -- Aarav Mohanty"
   ]
  },
  {
   "cell_type": "markdown",
   "id": "6180e742-8e39-4698-98ff-5b00c8cf8ea0",
   "metadata": {},
   "source": [
    "## Question 1"
   ]
  },
  {
   "cell_type": "code",
   "execution_count": null,
   "id": "034fd7af",
   "metadata": {},
   "outputs": [],
   "source": [
    "import pandas as pd\n",
    "import matplotlib.pyplot as plt"
   ]
  },
  {
   "cell_type": "code",
   "execution_count": null,
   "id": "abbe95b4",
   "metadata": {},
   "outputs": [],
   "source": [
    "#reading Death Records csv file\n",
    "myDF = pd.read_csv('/anvil/projects/tdm/data/death_records/DeathRecords.csv')\n",
    "#display first 5 records\n",
    "racesDF = myDF['Race'].value_counts()\n",
    "print(racesDF)"
   ]
  },
  {
   "cell_type": "code",
   "execution_count": null,
   "id": "49445606-d363-41b4-b479-e319a9a84c01",
   "metadata": {},
   "outputs": [
    {
     "name": "stdout",
     "output_type": "stream",
     "text": [
      "Race\n",
      "1     2241510\n",
      "2      309504\n",
      "3       18031\n",
      "4       13297\n",
      "7       11074\n",
      "68       8737\n",
      "5        8159\n",
      "18       6778\n",
      "48       4913\n",
      "28       4711\n",
      "78       2818\n",
      "6         700\n",
      "38        623\n",
      "58        316\n",
      "Name: count, dtype: int64\n"
     ]
    },
    {
     "data": {
      "text/plain": [
       "<BarContainer object of 108 artists>"
      ]
     },
     "execution_count": 1,
     "metadata": {},
     "output_type": "execute_result"
    },
    {
     "data": {
      "image/png": "[encoded data removed]",
      "text/plain": [
       "<Figure size 640x480 with 1 Axes>"
      ]
     },
     "metadata": {},
     "output_type": "display_data"
    }
   ],
   "source": [
    "#sort data frame to when race is 7 and age isn't 999 \n",
    "sortedDF = myDF[(myDF['Race'] == 7) & (myDF['Age'] != 999)]\n",
    "#use valuecounts and sort index to create a sortedDF and plot it\n",
    "age_counts = sortedDF['Age'].value_counts().sort_index()\n",
    "plt.bar(age_counts.index, age_counts.values)"
   ]
  },
  {
   "cell_type": "markdown",
   "id": "fc601975-35ed-4680-a4e1-0273ee3cc047",
   "metadata": {},
   "source": [
    "## Question 2"
   ]
  },
  {
   "cell_type": "code",
   "execution_count": null,
   "id": "a16336a1-1ef0-41e8-bc7c-49387db27497",
   "metadata": {},
   "outputs": [
    {
     "data": {
      "text/plain": [
       "STORE_R\n",
       "WEST       3952\n",
       "EAST       3269\n",
       "CENTRAL    2750\n",
       "SOUTH      2675\n",
       "Name: count, dtype: int64"
      ]
     },
     "execution_count": 2,
     "metadata": {},
     "output_type": "execute_result"
    }
   ],
   "source": [
    "#creates new data frame and rename columns\n",
    "myDF = pd.read_csv(\"/anvil/projects/tdm/data/8451/The_Complete_Journey_2_Master/5000_transactions.csv\")\n",
    "myDF.columns = [\"BASKET_NUM\", \"HSHD_NUM\", \"PURCHASE\", \"PRODUCT_NUM\", \"SPEND\", \"UNITS\", \"STORE_R\", \"WEEK_NUM\", \"YEAR\"]\n",
    "#show spend values less than 0 and use .value_counts() for DF\n",
    "myDF[myDF['SPEND'] < 0]['STORE_R'].value_counts()"
   ]
  },
  {
   "cell_type": "markdown",
   "id": "8e586edd-ff26-4ce2-8f6b-2424b26f2929",
   "metadata": {},
   "source": [
    "## Question 3"
   ]
  },
  {
   "cell_type": "code",
   "execution_count": null,
   "id": "bbe0f40d-9655-4653-9ca8-886bdb61cb91",
   "metadata": {},
   "outputs": [
    {
     "name": "stdout",
     "output_type": "stream",
     "text": [
      "username\n",
      "Knapp85          1264\n",
      "GRG1313          1287\n",
      "kjkinsey         1335\n",
      "UCLABrewN84      1481\n",
      "jaydoc           1489\n",
      "Texasfan549      1532\n",
      "Sammy            1591\n",
      "kylehay2004      1628\n",
      "StonedTrippin    1630\n",
      "acurtis          1646\n",
      "Name: count, dtype: int64\n"
     ]
    },
    {
     "data": {
      "text/plain": [
       "3.6558019441069263"
      ]
     },
     "execution_count": 9,
     "metadata": {},
     "output_type": "execute_result"
    }
   ],
   "source": [
    "#creates new data frame using the csv file and renames the columns\n",
    "myDF = pd.read_csv(\"/anvil/projects/tdm/data/beer/reviews_sample.csv\")\n",
    "usernamesDF = myDF['username'].value_counts().sort_values().tail(10)\n",
    "#prints 10 biggest values from usernamesDF sort the values and print the bottom 10 values\n",
    "print(usernamesDF)\n",
    "#shows the mean of the score column where the username is equal to 'acurtis'\n",
    "myDF[myDF['username'] == 'acurtis']['score'].mean()"
   ]
  },
  {
   "cell_type": "markdown",
   "id": "da22f29c-d245-4d2b-9fc1-ca14cb6087d9",
   "metadata": {},
   "source": [
    "## Question 4"
   ]
  },
  {
   "cell_type": "code",
   "execution_count": null,
   "id": "8cffc767-d1c8-4d64-b7dc-f0d2ee8a80d1",
   "metadata": {},
   "outputs": [
    {
     "data": {
      "text/html": [
       "<div>\n",
       "<style scoped>\n",
       "    .dataframe tbody tr th:only-of-type {\n",
       "        vertical-align: middle;\n",
       "    }\n",
       "\n",
       "    .dataframe tbody tr th {\n",
       "        vertical-align: top;\n",
       "    }\n",
       "\n",
       "    .dataframe thead th {\n",
       "        text-align: right;\n",
       "    }\n",
       "</style>\n",
       "<table border=\"1\" class=\"dataframe\">\n",
       "  <thead>\n",
       "    <tr style=\"text-align: right;\">\n",
       "      <th></th>\n",
       "      <th>CMTE_ID</th>\n",
       "      <th>AMNDT_IND</th>\n",
       "      <th>RPT_TP</th>\n",
       "      <th>TRANSACTION_PGI</th>\n",
       "      <th>IMAGE_NUM</th>\n",
       "      <th>TRANSACTION_TP</th>\n",
       "      <th>ENTITY_TP</th>\n",
       "      <th>NAME</th>\n",
       "      <th>CITY</th>\n",
       "      <th>STATE</th>\n",
       "      <th>...</th>\n",
       "      <th>EMPLOYER</th>\n",
       "      <th>OCCUPATION</th>\n",
       "      <th>TRANSACTION_DT</th>\n",
       "      <th>TRANSACTION_AMT</th>\n",
       "      <th>OTHER_ID</th>\n",
       "      <th>TRAN_ID</th>\n",
       "      <th>FILE_NUM</th>\n",
       "      <th>MEMO_CD</th>\n",
       "      <th>MEMO_TEXT</th>\n",
       "      <th>SUB_ID</th>\n",
       "    </tr>\n",
       "  </thead>\n",
       "  <tbody>\n",
       "    <tr>\n",
       "      <th>8739</th>\n",
       "      <td>C00097121</td>\n",
       "      <td>N</td>\n",
       "      <td>TER</td>\n",
       "      <td>NaN</td>\n",
       "      <td>79011650894</td>\n",
       "      <td>15C</td>\n",
       "      <td>NaN</td>\n",
       "      <td>SCHECK, RICHARD HERBERT</td>\n",
       "      <td>NaN</td>\n",
       "      <td>NaN</td>\n",
       "      <td>...</td>\n",
       "      <td>NaN</td>\n",
       "      <td>NaN</td>\n",
       "      <td>NaN</td>\n",
       "      <td>500</td>\n",
       "      <td>H8NY06014</td>\n",
       "      <td>NaN</td>\n",
       "      <td>NaN</td>\n",
       "      <td>NaN</td>\n",
       "      <td>NaN</td>\n",
       "      <td>3061920110000482535</td>\n",
       "    </tr>\n",
       "    <tr>\n",
       "      <th>8740</th>\n",
       "      <td>C00097121</td>\n",
       "      <td>N</td>\n",
       "      <td>TER</td>\n",
       "      <td>NaN</td>\n",
       "      <td>79011650894</td>\n",
       "      <td>15C</td>\n",
       "      <td>NaN</td>\n",
       "      <td>SCHECK, RICHARD HERBERT</td>\n",
       "      <td>NaN</td>\n",
       "      <td>NaN</td>\n",
       "      <td>...</td>\n",
       "      <td>NaN</td>\n",
       "      <td>NaN</td>\n",
       "      <td>NaN</td>\n",
       "      <td>500</td>\n",
       "      <td>H8NY06014</td>\n",
       "      <td>NaN</td>\n",
       "      <td>NaN</td>\n",
       "      <td>NaN</td>\n",
       "      <td>NaN</td>\n",
       "      <td>3061920110000482532</td>\n",
       "    </tr>\n",
       "    <tr>\n",
       "      <th>8741</th>\n",
       "      <td>C00097121</td>\n",
       "      <td>N</td>\n",
       "      <td>TER</td>\n",
       "      <td>NaN</td>\n",
       "      <td>79011650894</td>\n",
       "      <td>15C</td>\n",
       "      <td>NaN</td>\n",
       "      <td>SCHECK, RICHARD HERBERT</td>\n",
       "      <td>NaN</td>\n",
       "      <td>NaN</td>\n",
       "      <td>...</td>\n",
       "      <td>NaN</td>\n",
       "      <td>NaN</td>\n",
       "      <td>NaN</td>\n",
       "      <td>1000</td>\n",
       "      <td>H8NY06014</td>\n",
       "      <td>NaN</td>\n",
       "      <td>NaN</td>\n",
       "      <td>NaN</td>\n",
       "      <td>NaN</td>\n",
       "      <td>3061920110000482533</td>\n",
       "    </tr>\n",
       "    <tr>\n",
       "      <th>8742</th>\n",
       "      <td>C00097121</td>\n",
       "      <td>N</td>\n",
       "      <td>TER</td>\n",
       "      <td>NaN</td>\n",
       "      <td>79011650894</td>\n",
       "      <td>15C</td>\n",
       "      <td>NaN</td>\n",
       "      <td>SCHECK, RICHARD HERBERT</td>\n",
       "      <td>NaN</td>\n",
       "      <td>NaN</td>\n",
       "      <td>...</td>\n",
       "      <td>NaN</td>\n",
       "      <td>NaN</td>\n",
       "      <td>NaN</td>\n",
       "      <td>1000</td>\n",
       "      <td>H8NY06014</td>\n",
       "      <td>NaN</td>\n",
       "      <td>NaN</td>\n",
       "      <td>NaN</td>\n",
       "      <td>NaN</td>\n",
       "      <td>3061920110000482534</td>\n",
       "    </tr>\n",
       "    <tr>\n",
       "      <th>8743</th>\n",
       "      <td>C00097121</td>\n",
       "      <td>N</td>\n",
       "      <td>TER</td>\n",
       "      <td>NaN</td>\n",
       "      <td>79011650894</td>\n",
       "      <td>15C</td>\n",
       "      <td>NaN</td>\n",
       "      <td>SCHECK, RICHARD HERBERT</td>\n",
       "      <td>NaN</td>\n",
       "      <td>NaN</td>\n",
       "      <td>...</td>\n",
       "      <td>NaN</td>\n",
       "      <td>NaN</td>\n",
       "      <td>NaN</td>\n",
       "      <td>1000</td>\n",
       "      <td>H8NY06014</td>\n",
       "      <td>NaN</td>\n",
       "      <td>NaN</td>\n",
       "      <td>NaN</td>\n",
       "      <td>NaN</td>\n",
       "      <td>3061920110000482536</td>\n",
       "    </tr>\n",
       "    <tr>\n",
       "      <th>8744</th>\n",
       "      <td>C00097121</td>\n",
       "      <td>N</td>\n",
       "      <td>TER</td>\n",
       "      <td>NaN</td>\n",
       "      <td>79011650894</td>\n",
       "      <td>15C</td>\n",
       "      <td>NaN</td>\n",
       "      <td>SCHECK, RICHARD HERBERT</td>\n",
       "      <td>NaN</td>\n",
       "      <td>NaN</td>\n",
       "      <td>...</td>\n",
       "      <td>NaN</td>\n",
       "      <td>NaN</td>\n",
       "      <td>NaN</td>\n",
       "      <td>1000</td>\n",
       "      <td>H8NY06014</td>\n",
       "      <td>NaN</td>\n",
       "      <td>NaN</td>\n",
       "      <td>NaN</td>\n",
       "      <td>NaN</td>\n",
       "      <td>3061920110000482537</td>\n",
       "    </tr>\n",
       "    <tr>\n",
       "      <th>76712</th>\n",
       "      <td>C00083212</td>\n",
       "      <td>N</td>\n",
       "      <td>M5</td>\n",
       "      <td>NaN</td>\n",
       "      <td>79031273621</td>\n",
       "      <td>15T</td>\n",
       "      <td>NaN</td>\n",
       "      <td>CURCIO, BARBARA G</td>\n",
       "      <td>NEW HOPE</td>\n",
       "      <td>PA</td>\n",
       "      <td>...</td>\n",
       "      <td>NaN</td>\n",
       "      <td>NaN</td>\n",
       "      <td>NaN</td>\n",
       "      <td>2</td>\n",
       "      <td>C00003376</td>\n",
       "      <td>NaN</td>\n",
       "      <td>NaN</td>\n",
       "      <td>NaN</td>\n",
       "      <td>NaN</td>\n",
       "      <td>3061920110000375492</td>\n",
       "    </tr>\n",
       "    <tr>\n",
       "      <th>112306</th>\n",
       "      <td>C00077396</td>\n",
       "      <td>N</td>\n",
       "      <td>Q1</td>\n",
       "      <td>NaN</td>\n",
       "      <td>79011640519</td>\n",
       "      <td>15</td>\n",
       "      <td>NaN</td>\n",
       "      <td>WOLFF, GARY W.</td>\n",
       "      <td>BOERNE</td>\n",
       "      <td>TX</td>\n",
       "      <td>...</td>\n",
       "      <td>ALAMO ENTERPRISES</td>\n",
       "      <td>NaN</td>\n",
       "      <td>NaN</td>\n",
       "      <td>1000</td>\n",
       "      <td>NaN</td>\n",
       "      <td>NaN</td>\n",
       "      <td>NaN</td>\n",
       "      <td>NaN</td>\n",
       "      <td>NaN</td>\n",
       "      <td>3061920110000437895</td>\n",
       "    </tr>\n",
       "    <tr>\n",
       "      <th>112307</th>\n",
       "      <td>C00077396</td>\n",
       "      <td>N</td>\n",
       "      <td>Q1</td>\n",
       "      <td>NaN</td>\n",
       "      <td>79011640519</td>\n",
       "      <td>15</td>\n",
       "      <td>NaN</td>\n",
       "      <td>WOLFF, GARY W.</td>\n",
       "      <td>BOERNE</td>\n",
       "      <td>TX</td>\n",
       "      <td>...</td>\n",
       "      <td>ALAMO ENTERPRISES</td>\n",
       "      <td>NaN</td>\n",
       "      <td>NaN</td>\n",
       "      <td>1000</td>\n",
       "      <td>NaN</td>\n",
       "      <td>NaN</td>\n",
       "      <td>NaN</td>\n",
       "      <td>NaN</td>\n",
       "      <td>NaN</td>\n",
       "      <td>3061920110000437896</td>\n",
       "    </tr>\n",
       "  </tbody>\n",
       "</table>\n",
       "<p>9 rows × 21 columns</p>\n",
       "</div>"
      ],
      "text/plain": [
       "          CMTE_ID AMNDT_IND RPT_TP TRANSACTION_PGI    IMAGE_NUM  \\\n",
       "8739    C00097121         N    TER             NaN  79011650894   \n",
       "8740    C00097121         N    TER             NaN  79011650894   \n",
       "8741    C00097121         N    TER             NaN  79011650894   \n",
       "8742    C00097121         N    TER             NaN  79011650894   \n",
       "8743    C00097121         N    TER             NaN  79011650894   \n",
       "8744    C00097121         N    TER             NaN  79011650894   \n",
       "76712   C00083212         N     M5             NaN  79031273621   \n",
       "112306  C00077396         N     Q1             NaN  79011640519   \n",
       "112307  C00077396         N     Q1             NaN  79011640519   \n",
       "\n",
       "       TRANSACTION_TP  ENTITY_TP                     NAME      CITY STATE  \\\n",
       "8739              15C        NaN  SCHECK, RICHARD HERBERT       NaN   NaN   \n",
       "8740              15C        NaN  SCHECK, RICHARD HERBERT       NaN   NaN   \n",
       "8741              15C        NaN  SCHECK, RICHARD HERBERT       NaN   NaN   \n",
       "8742              15C        NaN  SCHECK, RICHARD HERBERT       NaN   NaN   \n",
       "8743              15C        NaN  SCHECK, RICHARD HERBERT       NaN   NaN   \n",
       "8744              15C        NaN  SCHECK, RICHARD HERBERT       NaN   NaN   \n",
       "76712             15T        NaN        CURCIO, BARBARA G  NEW HOPE    PA   \n",
       "112306             15        NaN           WOLFF, GARY W.    BOERNE    TX   \n",
       "112307             15        NaN           WOLFF, GARY W.    BOERNE    TX   \n",
       "\n",
       "        ...           EMPLOYER OCCUPATION  TRANSACTION_DT  TRANSACTION_AMT  \\\n",
       "8739    ...                NaN        NaN             NaN              500   \n",
       "8740    ...                NaN        NaN             NaN              500   \n",
       "8741    ...                NaN        NaN             NaN             1000   \n",
       "8742    ...                NaN        NaN             NaN             1000   \n",
       "8743    ...                NaN        NaN             NaN             1000   \n",
       "8744    ...                NaN        NaN             NaN             1000   \n",
       "76712   ...                NaN        NaN             NaN                2   \n",
       "112306  ...  ALAMO ENTERPRISES        NaN             NaN             1000   \n",
       "112307  ...  ALAMO ENTERPRISES        NaN             NaN             1000   \n",
       "\n",
       "         OTHER_ID TRAN_ID  FILE_NUM  MEMO_CD  MEMO_TEXT               SUB_ID  \n",
       "8739    H8NY06014     NaN       NaN      NaN        NaN  3061920110000482535  \n",
       "8740    H8NY06014     NaN       NaN      NaN        NaN  3061920110000482532  \n",
       "8741    H8NY06014     NaN       NaN      NaN        NaN  3061920110000482533  \n",
       "8742    H8NY06014     NaN       NaN      NaN        NaN  3061920110000482534  \n",
       "8743    H8NY06014     NaN       NaN      NaN        NaN  3061920110000482536  \n",
       "8744    H8NY06014     NaN       NaN      NaN        NaN  3061920110000482537  \n",
       "76712   C00003376     NaN       NaN      NaN        NaN  3061920110000375492  \n",
       "112306        NaN     NaN       NaN      NaN        NaN  3061920110000437895  \n",
       "112307        NaN     NaN       NaN      NaN        NaN  3061920110000437896  \n",
       "\n",
       "[9 rows x 21 columns]"
      ]
     },
     "execution_count": 11,
     "metadata": {},
     "output_type": "execute_result"
    }
   ],
   "source": [
    "myDF = pd.read_csv(\"/anvil/projects/tdm/data/election/itcont1980.txt\", header=None, sep='|')\n",
    "myDF.columns = [\"CMTE_ID\", \"AMNDT_IND\", \"RPT_TP\", \"TRANSACTION_PGI\", \"IMAGE_NUM\", \"TRANSACTION_TP\", \"ENTITY_TP\", \"NAME\", \"CITY\", \"STATE\", \"ZIP_CODE\", \"EMPLOYER\", \"OCCUPATION\", \"TRANSACTION_DT\", \"TRANSACTION_AMT\", \"OTHER_ID\", \"TRAN_ID\", \"FILE_NUM\", \"MEMO_CD\", \"MEMO_TEXT\", \"SUB_ID\"]\n",
    "#dataframe where all values of Transaction_DT are null\n",
    "myDF[myDF['TRANSACTION_DT'].isnull()]"
   ]
  },
  {
   "cell_type": "markdown",
   "id": "88c9cdac-3e92-498f-83fa-e089bfc44ac8",
   "metadata": {},
   "source": [
    "## Question 5"
   ]
  },
  {
   "cell_type": "code",
   "execution_count": null,
   "id": "d370d7c9-06db-42b9-b75f-240481a5c491",
   "metadata": {},
   "outputs": [
    {
     "name": "stdout",
     "output_type": "stream",
     "text": [
      "Origin\n",
      "EWR     9.168411\n",
      "JFK    11.857274\n",
      "LGA     8.560045\n",
      "Name: DepDelay, dtype: float64\n"
     ]
    }
   ],
   "source": [
    "myDF = pd.read_csv(\"/anvil/projects/tdm/data/flights/subset/1990.csv\")\n",
    "#makes a new dataframe with select values for the origin and find mean\n",
    "mean_dep_delay = myDF.groupby('Origin')['DepDelay'].mean()[['EWR', 'JFK', 'LGA']]\n",
    "print(mean_dep_delay)"
   ]
  },
  {
   "cell_type": "markdown",
   "id": "f76442d6-d02e-4f26-b9d6-c3183e1d6929",
   "metadata": {},
   "source": [
    "## Pledge\n",
    "\n",
    "By submitting this work I hereby pledge that this is my own, personal work. I've acknowledged in the designated place at the top of this file all sources that I used to complete said work, including but not limited to: online resources, books, and electronic communications. I've noted all collaboration with fellow students and/or TA's. I did not copy or plagiarize another's work.\n",
    "\n",
    "> As a Boilermaker pursuing academic excellence, I pledge to be honest and true in all that I do. Accountable together – We are Purdue."
   ]
  }
 ],
 "metadata": {
  "kernelspec": {
   "display_name": "seminar",
   "language": "python",
   "name": "python3"
  },
  "language_info": {
   "codemirror_mode": {
    "name": "ipython",
    "version": 3
   },
   "file_extension": ".py",
   "mimetype": "text/x-python",
   "name": "python",
   "nbconvert_exporter": "python",
   "pygments_lexer": "ipython3",
   "version": "3.11.5"
  }
 },
 "nbformat": 4,
 "nbformat_minor": 5
}
