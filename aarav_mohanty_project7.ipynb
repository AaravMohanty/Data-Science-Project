{
 "cells": [
  {
   "cell_type": "markdown",
   "id": "be02a957-7133-4d02-818e-fedeb3cecb05",
   "metadata": {},
   "source": [
    "# Project 7 -- Aarav Mohanty"
   ]
  },
  {
   "cell_type": "markdown",
   "id": "6180e742-8e39-4698-98ff-5b00c8cf8ea0",
   "metadata": {},
   "source": [
    "## Question 1"
   ]
  },
  {
   "cell_type": "code",
   "execution_count": null,
   "id": "49445606-d363-41b4-b479-e319a9a84c01",
   "metadata": {},
   "outputs": [
    {
     "name": "stdout",
     "output_type": "stream",
     "text": [
      "Age\n",
      "(-inf, 18.0]       36033\n",
      "(18.0, 25.0]       27691\n",
      "(25.0, 35.0]       49540\n",
      "(35.0, 55.0]      271181\n",
      "(55.0, 150.0]    2246155\n",
      "(150.0, inf]         571\n",
      "Name: count, dtype: int64\n"
     ]
    }
   ],
   "source": [
    "# import libraries\n",
    "import pandas as pd\n",
    "import matplotlib.pyplot as plt\n",
    "df = pd.read_csv(\"/anvil/projects/tdm/data/death_records/DeathRecords.csv\")\n",
    "bins = [-float('inf'), 18, 25, 35, 55, 150, float('inf')]\n",
    "# split into labels\n",
    "labels = [\"youth\", \"young adult\", \"adult\", \"middle age\", \"senior\", \"unknown\"]\n",
    "df['Age Group'] = pd.cut(df['Age'], bins=bins, labels=labels)\n",
    "# sort it based on value_counts\n",
    "age_counts_default = pd.cut(df['Age'], bins=bins).value_counts().sort_index()\n",
    "print(age_counts_default)\n",
    "#Count occurrences in each bin that was created"
   ]
  },
  {
   "cell_type": "code",
   "execution_count": 3,
   "id": "6abf520b-f4a1-4ee0-9b7c-3fd34eb4d8a7",
   "metadata": {},
   "outputs": [
    {
     "name": "stdout",
     "output_type": "stream",
     "text": [
      "Age Group\n",
      "youth            36033\n",
      "young adult      27691\n",
      "adult            49540\n",
      "middle age      271181\n",
      "senior         2246155\n",
      "unknown            571\n",
      "Name: count, dtype: int64\n"
     ]
    }
   ],
   "source": [
    "age_counts_labeled = df['Age Group'].value_counts().sort_index()\n",
    "print(age_counts_labeled)\n",
    "#Count occurrences with category labels"
   ]
  },
  {
   "cell_type": "code",
   "execution_count": null,
   "id": "868aa219-7c76-486f-b6de-dcefecf9e8f8",
   "metadata": {},
   "outputs": [
    {
     "data": {
      "image/png": "[encoded data removed]",
      "text/plain": [
       "<Figure size 640x480 with 1 Axes>"
      ]
     },
     "metadata": {},
     "output_type": "display_data"
    }
   ],
   "source": [
    "age_counts_labeled.plot(kind=\"bar\")\n",
    "plt.xlabel(\"Age Group\")\n",
    "plt.ylabel(\"Number of People\")\n",
    "plt.title(\"Number of People in Each Age Group at Time of Death\")\n",
    "plt.show()\n",
    "#plot all of the information as shown below"
   ]
  },
  {
   "cell_type": "markdown",
   "id": "b456e57c-4a12-464b-999a-ef2df5af80c1",
   "metadata": {},
   "source": [
    "Markdown notes and sentences and analysis written here."
   ]
  },
  {
   "cell_type": "markdown",
   "id": "fc601975-35ed-4680-a4e1-0273ee3cc047",
   "metadata": {},
   "source": [
    "## Question 2"
   ]
  },
  {
   "cell_type": "code",
   "execution_count": null,
   "id": "a16336a1-1ef0-41e8-bc7c-49387db27497",
   "metadata": {},
   "outputs": [
    {
     "data": {
      "text/plain": [
       "STORE_R  YEAR\n",
       "CENTRAL  2016    4471800.64\n",
       "         2017    4425504.50\n",
       "EAST     2016    5829165.51\n",
       "         2017    5870281.35\n",
       "SOUTH    2016    3996750.91\n",
       "         2017    3961169.86\n",
       "WEST     2016    4754002.95\n",
       "         2017    4926103.59\n",
       "Name: SPEND, dtype: float64"
      ]
     },
     "execution_count": 3,
     "metadata": {},
     "output_type": "execute_result"
    }
   ],
   "source": [
    "import pandas as pd  # Import the pandas library for data manipulation\n",
    "\n",
    "# Load the transaction data into a DataFrame\n",
    "df = pd.read_csv(\"/anvil/projects/tdm/data/8451/The_Complete_Journey_2_Master/5000_transactions.csv\")\n",
    "\n",
    "# Assign column names to the DataFrame for easier reference\n",
    "df.columns = [\n",
    "    \"BASKET_NUM\",  # Unique identifier for each shopping basket\n",
    "    \"HSHD_NUM\",    # Household number\n",
    "    \"PURCHASE\",     # Date of purchase\n",
    "    \"PRODUCT_NUM\",  # Product identification number\n",
    "    \"SPEND\",        # Amount spent in dollars\n",
    "    \"UNITS\",        # Number of units purchased\n",
    "    \"STORE_R\",      # Store region identifier\n",
    "    \"WEEK_NUM\",     # Week number within the year\n",
    "    \"YEAR\"          # Year of purchase\n",
    "]\n",
    "\n",
    "# Group the data by 'STORE_R' and 'YEAR', then calculate the total amount spent for each combination\n",
    "df.groupby(['STORE_R', 'YEAR'])['SPEND'].sum()\n",
    "\n",
    "# This results in the total amount spent (`SPEND`) aggregated by the \n",
    "# 8 possible combinations of 'YEAR' and 'STORE_R' values.\n"
   ]
  },
  {
   "cell_type": "markdown",
   "id": "14dc22d4-ddc3-41cc-a91a-cb0025bc0c80",
   "metadata": {},
   "source": [
    "Markdown notes and sentences and analysis written here."
   ]
  },
  {
   "cell_type": "markdown",
   "id": "8e586edd-ff26-4ce2-8f6b-2424b26f2929",
   "metadata": {},
   "source": [
    "## Question 3"
   ]
  },
  {
   "cell_type": "code",
   "execution_count": null,
   "id": "bbe0f40d-9655-4653-9ca8-886bdb61cb91",
   "metadata": {},
   "outputs": [
    {
     "data": {
      "text/plain": [
       "month  year\n",
       "1      1998    3.770000\n",
       "       2001    4.220000\n",
       "       2002    4.246667\n",
       "       2003    3.842596\n",
       "       2004    3.892104\n",
       "                 ...   \n",
       "12     2013    3.885565\n",
       "       2014    3.967668\n",
       "       2015    3.993312\n",
       "       2016    4.010456\n",
       "       2017    4.045614\n",
       "Name: score, Length: 238, dtype: float64"
      ]
     },
     "execution_count": 8,
     "metadata": {},
     "output_type": "execute_result"
    }
   ],
   "source": [
    "import pandas as pd  # Import the pandas library for data manipulation\n",
    "\n",
    "# Read the CSV file containing beer reviews data\n",
    "df = pd.read_csv(\"/anvil/projects/tdm/data/beer/reviews_sample.csv\")\n",
    "\n",
    "# Extract the year from the 'date' column and create a new 'year' column\n",
    "df[\"year\"] = pd.to_datetime(df['date']).dt.year\n",
    "\n",
    "# Extract the month from the 'date' column and create a new 'month' column\n",
    "df[\"month\"] = pd.to_datetime(df['date']).dt.month\n",
    "\n",
    "# Group the data by 'month' and 'year', then calculate the mean 'score' for each group\n",
    "df.groupby(['month', 'year'])['score'].mean()\n"
   ]
  },
  {
   "cell_type": "markdown",
   "id": "47c6229f-35f7-400c-8366-c442baa5cf47",
   "metadata": {},
   "source": [
    "Markdown notes and sentences and analysis written here."
   ]
  },
  {
   "cell_type": "markdown",
   "id": "da22f29c-d245-4d2b-9fc1-ca14cb6087d9",
   "metadata": {},
   "source": [
    "## Question 4"
   ]
  },
  {
   "cell_type": "code",
   "execution_count": null,
   "id": "8cffc767-d1c8-4d64-b7dc-f0d2ee8a80d1",
   "metadata": {},
   "outputs": [
    {
     "data": {
      "text/plain": [
       "CITY\n",
       "INDIANAPOLIS      1443\n",
       "MUNCIE             232\n",
       "CARMEL             167\n",
       "FORT WAYNE         157\n",
       "EVANSVILLE         151\n",
       "FT WAYNE           132\n",
       "ELKHART            132\n",
       "SOUTH BEND         123\n",
       "INDPLS             123\n",
       "LAFAYETTE           85\n",
       "TERRE HAUTE         75\n",
       "LAPORTE             53\n",
       "ZIONSVILLE          52\n",
       "GARY                47\n",
       "MERRILLVILLE        46\n",
       "COLUMBUS            45\n",
       "KOKOMO              45\n",
       "RICHMOND            43\n",
       "BLOOMINGTON         38\n",
       "GREENWOOD           35\n",
       "CROWN POINT         35\n",
       "VALPARAISO          34\n",
       "ANDERSON            34\n",
       "MUNICE              31\n",
       "MUNSTER             30\n",
       "WABASH              27\n",
       "WEST LAFAYETTE      24\n",
       "SYRACUSE            24\n",
       "NOBLESVILLE         22\n",
       "W LAFAYETTE         22\n",
       "HAMMOND             22\n",
       "WARSAW              21\n",
       "VINCENNES           20\n",
       "HOBART              17\n",
       "MISHAWAKA           16\n",
       "MICHIGAN CITY       16\n",
       "HIGHLAND            16\n",
       "CHESTERTON          15\n",
       "WALKERTON           15\n",
       "PLAINFIELD          15\n",
       "INDIANPOLIS         15\n",
       "Name: count, dtype: int64"
      ]
     },
     "execution_count": 10,
     "metadata": {},
     "output_type": "execute_result"
    }
   ],
   "source": [
    "import pandas as pd  # Import the pandas library for data manipulation\n",
    "\n",
    "# Read the text file containing election data with no header, using '|' as a separator\n",
    "df = pd.read_csv(\"/anvil/projects/tdm/data/election/itcont1980.txt\", header=None, sep='|')\n",
    "\n",
    "# Assign column names to the DataFrame for easier reference\n",
    "df.columns = [\n",
    "    \"CMTE_ID\", \"AMNDT_IND\", \"RPT_TP\", \"TRANSACTION_PGI\", \"IMAGE_NUM\", \n",
    "    \"TRANSACTION_TP\", \"ENTITY_TP\", \"NAME\", \"CITY\", \"STATE\", \"ZIP_CODE\", \n",
    "    \"EMPLOYER\", \"OCCUPATION\", \"TRANSACTION_DT\", \"TRANSACTION_AMT\", \n",
    "    \"OTHER_ID\", \"TRAN_ID\", \"FILE_NUM\", \"MEMO_CD\", \"MEMO_TEXT\", \"SUB_ID\"\n",
    "]\n",
    "\n",
    "# Filter the DataFrame to include only rows where the 'STATE' column is 'IN' (Indiana)\n",
    "indianaDF = df[df[\"STATE\"] == \"IN\"]\n",
    "\n",
    "# Count the number of donations made from each city in Indiana\n",
    "# Sort the counts in descending order and display the top 41 cities\n",
    "indianaDF[\"CITY\"].value_counts().sort_values(ascending=False).head(41)\n"
   ]
  },
  {
   "cell_type": "code",
   "execution_count": null,
   "id": "bdc0d841-be0c-4a7c-bca2-43104ba83c1f",
   "metadata": {},
   "outputs": [
    {
     "data": {
      "text/plain": [
       "CITY\n",
       "INDIANAPOLIS      1443\n",
       "MUNCIE             232\n",
       "CARMEL             167\n",
       "FORT WAYNE         157\n",
       "EVANSVILLE         151\n",
       "FT WAYNE           132\n",
       "ELKHART            132\n",
       "SOUTH BEND         123\n",
       "INDPLS             123\n",
       "LAFAYETTE           85\n",
       "TERRE HAUTE         75\n",
       "LAPORTE             53\n",
       "ZIONSVILLE          52\n",
       "GARY                47\n",
       "MERRILLVILLE        46\n",
       "COLUMBUS            45\n",
       "KOKOMO              45\n",
       "RICHMOND            43\n",
       "BLOOMINGTON         38\n",
       "GREENWOOD           35\n",
       "CROWN POINT         35\n",
       "VALPARAISO          34\n",
       "ANDERSON            34\n",
       "MUNICE              31\n",
       "MUNSTER             30\n",
       "WABASH              27\n",
       "WEST LAFAYETTE      24\n",
       "SYRACUSE            24\n",
       "NOBLESVILLE         22\n",
       "W LAFAYETTE         22\n",
       "HAMMOND             22\n",
       "WARSAW              21\n",
       "VINCENNES           20\n",
       "HOBART              17\n",
       "MISHAWAKA           16\n",
       "MICHIGAN CITY       16\n",
       "HIGHLAND            16\n",
       "CHESTERTON          15\n",
       "WALKERTON           15\n",
       "PLAINFIELD          15\n",
       "INDIANPOLIS         15\n",
       "Name: count, dtype: int64"
      ]
     },
     "execution_count": 11,
     "metadata": {},
     "output_type": "execute_result"
    }
   ],
   "source": [
    "# Filter the DataFrame directly using indexing to include only rows where 'STATE' is 'IN'\n",
    "# Count the number of donations made from each city\n",
    "# Sort the counts in descending order and display the top 41 cities\n",
    "df[df[\"STATE\"] == \"IN\"][\"CITY\"].value_counts().sort_values(ascending=False).head(41)\n",
    "\n",
    "# Same result as the previous method, but achieved directly with indexing instead of creating a subset DataFrame\n",
    "\n",
    "# Note: Some cities may appear multiple times due to inconsistent entry formats\n",
    "# Examples include:\n",
    "# - \"FT Wayne\" vs. \"Fort Wayne\"\n",
    "# - \"West Lafayette\" vs. \"W Lafayette\"\n"
   ]
  },
  {
   "cell_type": "markdown",
   "id": "0d552245-b4d6-474a-9cc9-fa7b8e674d55",
   "metadata": {},
   "source": [
    "Markdown notes and sentences and analysis written here."
   ]
  },
  {
   "cell_type": "markdown",
   "id": "88c9cdac-3e92-498f-83fa-e089bfc44ac8",
   "metadata": {},
   "source": [
    "## Question 5"
   ]
  },
  {
   "cell_type": "code",
   "execution_count": null,
   "id": "d370d7c9-06db-42b9-b75f-240481a5c491",
   "metadata": {},
   "outputs": [
    {
     "data": {
      "text/plain": [
       "Delay Bins\n",
       "(-inf, 0.0]         2966433\n",
       "(0.0, 60.0]         2111783\n",
       "(60.0, 120.0]        104240\n",
       "NaN                   52458\n",
       "(120.0, 180.0]        24000\n",
       "(180.0, 240.0]         7517\n",
       "(240.0, 300.0]         2630\n",
       "(300.0, 360.0]         1001\n",
       "(360.0, 420.0]          366\n",
       "(420.0, 480.0]          125\n",
       "(1380.0, 1440.0]         76\n",
       "(480.0, 540.0]           65\n",
       "(540.0, 600.0]           35\n",
       "(1320.0, 1380.0]         28\n",
       "(660.0, 720.0]           24\n",
       "(780.0, 840.0]           24\n",
       "(720.0, 780.0]           20\n",
       "(600.0, 660.0]           19\n",
       "(840.0, 900.0]           13\n",
       "(1260.0, 1320.0]         11\n",
       "(900.0, 960.0]            8\n",
       "(960.0, 1020.0]           6\n",
       "(1080.0, 1140.0]          4\n",
       "(1140.0, 1200.0]          3\n",
       "(1200.0, 1260.0]          3\n",
       "(1020.0, 1080.0]          1\n",
       "Name: count, dtype: int64"
      ]
     },
     "execution_count": 1,
     "metadata": {},
     "output_type": "execute_result"
    }
   ],
   "source": [
    "import pandas as pd  # Import the pandas library for data manipulation\n",
    "\n",
    "# Read the CSV file containing flight data\n",
    "df = pd.read_csv(\"/anvil/projects/tdm/data/flights/subset/1990.csv\")\n",
    "\n",
    "# Create a new column called 'Delay Bins' that categorizes departure delays into specific time ranges (bins)\n",
    "# The `pd.cut()` function is used to group the 'DepDelay' values into these bins:\n",
    "# - Negative or zero delay (on time or early)\n",
    "# - 0 to 60 minutes\n",
    "# - 60 to 120 minutes\n",
    "# - Continues in 60-minute intervals up to 1440 minutes (24 hours)\n",
    "df[\"Delay Bins\"] = pd.cut(\n",
    "    df['DepDelay'], \n",
    "    bins=[\n",
    "        -float('inf'), 0, 60, 120, 180, 240, 300, 360, \n",
    "        420, 480, 540, 600, 660, 720, 780, 840, \n",
    "        900, 960, 1020, 1080, 1140, 1200, 1260, \n",
    "        1320, 1380, 1440\n",
    "    ]\n",
    ")\n",
    "\n",
    "# Count the number of departure delays that fall within each bin\n",
    "# `dropna=False` ensures NaN values are included in the count\n",
    "df[\"Delay Bins\"].value_counts(dropna=False)\n",
    "\n",
    "# The result shows how many delays fall into each defined bin,\n",
    "# helping to analyze the distribution of delay times.\n"
   ]
  },
  {
   "cell_type": "markdown",
   "id": "9fbf00fb-2418-460f-ae94-2a32b0c28952",
   "metadata": {},
   "source": [
    "Markdown notes and sentences and analysis written here."
   ]
  },
  {
   "cell_type": "markdown",
   "id": "f76442d6-d02e-4f26-b9d6-c3183e1d6929",
   "metadata": {},
   "source": [
    "## Pledge\n",
    "\n",
    "By submitting this work I hereby pledge that this is my own, personal work. I've acknowledged in the designated place at the top of this file all sources that I used to complete said work, including but not limited to: online resources, books, and electronic communications. I've noted all collaboration with fellow students and/or TA's. I did not copy or plagiarize another's work.\n",
    "\n",
    "> As a Boilermaker pursuing academic excellence, I pledge to be honest and true in all that I do. Accountable together – We are Purdue."
   ]
  }
 ],
 "metadata": {
  "kernelspec": {
   "display_name": "seminar",
   "language": "python",
   "name": "python3"
  },
  "language_info": {
   "codemirror_mode": {
    "name": "ipython",
    "version": 3
   },
   "file_extension": ".py",
   "mimetype": "text/x-python",
   "name": "python",
   "nbconvert_exporter": "python",
   "pygments_lexer": "ipython3",
   "version": "3.11.5"
  }
 },
 "nbformat": 4,
 "nbformat_minor": 5
}
