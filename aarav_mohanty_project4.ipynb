{
 "cells": [
  {
   "cell_type": "markdown",
   "id": "be02a957-7133-4d02-818e-fedeb3cecb05",
   "metadata": {},
   "source": [
    "# Project 4 -- Aarav Mohanty"
   ]
  },
  {
   "cell_type": "markdown",
   "id": "6180e742-8e39-4698-98ff-5b00c8cf8ea0",
   "metadata": {},
   "source": [
    "## Question 1"
   ]
  },
  {
   "cell_type": "code",
   "execution_count": null,
   "id": "7edc43e8-4e35-4cff-ab52-b491fbf60af5",
   "metadata": {},
   "outputs": [],
   "source": [
    "#Group the data by sex, then extract the age column and compute the average age at death for each sex."
   ]
  },
  {
   "cell_type": "code",
   "execution_count": 3,
   "id": "abe071c6-8b9f-418b-a63f-46be6c82d3b5",
   "metadata": {},
   "outputs": [
    {
     "data": {
      "text/plain": [
       "Sex\n",
       "F    76.676685\n",
       "M    70.227858\n",
       "Name: Age, dtype: float64"
      ]
     },
     "execution_count": 3,
     "metadata": {},
     "output_type": "execute_result"
    }
   ],
   "source": [
    "import pandas as pd\n",
    "myDF = pd.read_csv(\"/anvil/projects/tdm/data/death_records/DeathRecords.csv\")\n",
    "myDF.groupby(\"Sex\")[\"Age\"].mean()"
   ]
  },
  {
   "cell_type": "markdown",
   "id": "fc601975-35ed-4680-a4e1-0273ee3cc047",
   "metadata": {},
   "source": [
    "## Question 2"
   ]
  },
  {
   "cell_type": "code",
   "execution_count": null,
   "id": "b74ed855-6461-4a42-99cb-2cfbe48f2c70",
   "metadata": {},
   "outputs": [],
   "source": [
    "# Group the data by product number, then extract the spend column and calculate the total spend for each product. Finally, retrieve the 10 products with the highest total spend using tail()."
   ]
  },
  {
   "cell_type": "code",
   "execution_count": 9,
   "id": "d1f5034e-e65e-4759-97d7-43940ac986bb",
   "metadata": {},
   "outputs": [
    {
     "data": {
      "text/plain": [
       "PRODUCT_NUM\n",
       "89415       50032.42\n",
       "8523        53845.65\n",
       "1344763     58170.84\n",
       "4889358     63823.61\n",
       "85201       65605.34\n",
       "766108      66085.00\n",
       "74424       75787.49\n",
       "85311      102928.59\n",
       "1367192    111433.78\n",
       "8511       131399.78\n",
       "Name: SPEND, dtype: float64"
      ]
     },
     "execution_count": 9,
     "metadata": {},
     "output_type": "execute_result"
    }
   ],
   "source": [
    "myDF = pd.read_csv(\"/anvil/projects/tdm/data/8451/The_Complete_Journey_2_Master/5000_transactions.csv\")\n",
    "myDF.columns = [\"BASKET_NUM\", \"HSHD_NUM\", \"PURCHASE\", \"PRODUCT_NUM\", \"SPEND\", \"UNITS\", \"STORE_R\", \"WEEK_NUM\", \"YEAR\"]\n",
    "\n",
    "myDF.groupby(\"PRODUCT_NUM\")[\"SPEND\"].sum().sort_values().tail(10)"
   ]
  },
  {
   "cell_type": "markdown",
   "id": "8e586edd-ff26-4ce2-8f6b-2424b26f2929",
   "metadata": {},
   "source": [
    "## Question 3"
   ]
  },
  {
   "cell_type": "code",
   "execution_count": null,
   "id": "538147e8-3421-4b47-90c8-848e16c56f7c",
   "metadata": {},
   "outputs": [],
   "source": [
    "# Group the data by beer ID, then extract the scores column and compute the average score for each beer. Sort the results and retrieve the top 3 highest-rated beers using tail()."
   ]
  },
  {
   "cell_type": "code",
   "execution_count": 12,
   "id": "9664ca99-60d5-45be-9c50-65aac231b799",
   "metadata": {},
   "outputs": [
    {
     "data": {
      "text/plain": [
       "beer_id\n",
       "354440    5.0\n",
       "133479    5.0\n",
       "171630    5.0\n",
       "Name: score, dtype: float64"
      ]
     },
     "execution_count": 12,
     "metadata": {},
     "output_type": "execute_result"
    }
   ],
   "source": [
    "myDF = pd.read_csv(\"/anvil/projects/tdm/data/beer/reviews_sample.csv\")\n",
    "myDF.groupby(\"beer_id\")[\"score\"].mean().sort_values().tail(3)"
   ]
  },
  {
   "cell_type": "markdown",
   "id": "da22f29c-d245-4d2b-9fc1-ca14cb6087d9",
   "metadata": {},
   "source": [
    "## Question 4"
   ]
  },
  {
   "cell_type": "code",
   "execution_count": null,
   "id": "8c9aba82-6fa1-4fac-9c94-cca8aec55047",
   "metadata": {},
   "outputs": [],
   "source": [
    "# Group the data by city-state pairs using \"myDF['CITY'] + ', ' + myDF['STATE'], dropna=False\" to include missing values. Extract the donations column, sum the donations for each city-state pair, and retrieve the top 6 with the highest total donations."
   ]
  },
  {
   "cell_type": "code",
   "execution_count": 13,
   "id": "82d81ad2-cf7f-4041-bad2-8e7036033bda",
   "metadata": {},
   "outputs": [
    {
     "data": {
      "text/plain": [
       "WASHINGTON, DC      4273606\n",
       "LOS ANGELES, CA     4569952\n",
       "DALLAS, TX          4747262\n",
       "HOUSTON, TX         7606806\n",
       "NEW YORK, NY       11344277\n",
       "NaN                18092711\n",
       "Name: TRANSACTION_AMT, dtype: int64"
      ]
     },
     "execution_count": 13,
     "metadata": {},
     "output_type": "execute_result"
    }
   ],
   "source": [
    "myDF = pd.read_csv(\"/anvil/projects/tdm/data/election/itcont1980.txt\", header=None, sep='|')\n",
    "myDF.columns = [\"CMTE_ID\", \"AMNDT_IND\", \"RPT_TP\", \"TRANSACTION_PGI\", \"IMAGE_NUM\", \"TRANSACTION_TP\", \"ENTITY_TP\", \"NAME\", \"CITY\", \"STATE\", \"ZIP_CODE\", \"EMPLOYER\", \"OCCUPATION\", \"TRANSACTION_DT\", \"TRANSACTION_AMT\", \"OTHER_ID\", \"TRAN_ID\", \"FILE_NUM\", \"MEMO_CD\", \"MEMO_TEXT\", \"SUB_ID\"]\n",
    "\n",
    "myDF.groupby(myDF['CITY'] + ', ' + myDF['STATE'], dropna = False)[\"TRANSACTION_AMT\"].sum().sort_values().tail(6)"
   ]
  },
  {
   "cell_type": "markdown",
   "id": "88c9cdac-3e92-498f-83fa-e089bfc44ac8",
   "metadata": {},
   "source": [
    "## Question 5"
   ]
  },
  {
   "cell_type": "code",
   "execution_count": null,
   "id": "817d4061-e171-4878-b000-e8bce115d743",
   "metadata": {},
   "outputs": [],
   "source": [
    "# Construct a string combining the month, day, and year with '/' separators to use as the groupby parameter. Group the data by this formatted date, extract departure delay values, compute the average departure delay for each date, sort the results, and retrieve the dates with the greatest average departure delays using tail()."
   ]
  },
  {
   "cell_type": "code",
   "execution_count": 15,
   "id": "e6a43431-3061-4159-a5c5-404f3ec1924b",
   "metadata": {},
   "outputs": [
    {
     "data": {
      "text/plain": [
       "12/20/1990    27.345403\n",
       "2/15/1990     28.123023\n",
       "2/16/1990     36.194221\n",
       "12/28/1990    43.914432\n",
       "12/22/1990    45.222249\n",
       "12/21/1990    45.661782\n",
       "Name: DepDelay, dtype: float64"
      ]
     },
     "execution_count": 15,
     "metadata": {},
     "output_type": "execute_result"
    }
   ],
   "source": [
    "myDF = pd.read_csv(\"/anvil/projects/tdm/data/flights/subset/1990.csv\")\n",
    "\n",
    "myDF.groupby(myDF['Month'].astype(str) + '/' + myDF['DayofMonth'].astype(str) + '/' + myDF['Year'].astype(str))[\"DepDelay\"].mean().sort_values().tail(6)"
   ]
  },
  {
   "cell_type": "markdown",
   "id": "f76442d6-d02e-4f26-b9d6-c3183e1d6929",
   "metadata": {},
   "source": [
    "## Pledge\n",
    "\n",
    "By submitting this work I hereby pledge that this is my own, personal work. I've acknowledged in the designated place at the top of this file all sources that I used to complete said work, including but not limited to: online resources, books, and electronic communications. I've noted all collaboration with fellow students and/or TA's. I did not copy or plagiarize another's work.\n",
    "\n",
    "> As a Boilermaker pursuing academic excellence, I pledge to be honest and true in all that I do. Accountable together – We are Purdue."
   ]
  }
 ],
 "metadata": {
  "kernelspec": {
   "display_name": "seminar",
   "language": "python",
   "name": "python3"
  },
  "language_info": {
   "codemirror_mode": {
    "name": "ipython",
    "version": 3
   },
   "file_extension": ".py",
   "mimetype": "text/x-python",
   "name": "python",
   "nbconvert_exporter": "python",
   "pygments_lexer": "ipython3",
   "version": "3.11.5"
  }
 },
 "nbformat": 4,
 "nbformat_minor": 5
}
