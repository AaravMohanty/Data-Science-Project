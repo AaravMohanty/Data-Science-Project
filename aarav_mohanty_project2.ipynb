{
 "cells": [
  {
   "cell_type": "markdown",
   "id": "be02a957-7133-4d02-818e-fedeb3cecb05",
   "metadata": {},
   "source": [
    "# Project 2 -- Aarav Mohanty"
   ]
  },
  {
   "cell_type": "markdown",
   "id": "a1228853-dd19-4ab2-89e0-0394d7d72de3",
   "metadata": {},
   "source": [
    "**TA Help:** N/A\n",
    "    \n",
    "**Collaboration:** N/A"
   ]
  },
  {
   "cell_type": "markdown",
   "id": "6180e742-8e39-4698-98ff-5b00c8cf8ea0",
   "metadata": {},
   "source": [
    "## Question 1"
   ]
  },
  {
   "cell_type": "code",
   "execution_count": 37,
   "id": "49445606-d363-41b4-b479-e319a9a84c01",
   "metadata": {},
   "outputs": [
    {
     "data": {
      "text/plain": [
       "Year\n",
       "1992    16413\n",
       "1988    14676\n",
       "2000    13821\n",
       "1996    13780\n",
       "2016    13688\n",
       "2008    13602\n",
       "2004    13443\n",
       "2012    12920\n",
       "1972    11959\n",
       "1984    11588\n",
       "1976    10502\n",
       "1968    10479\n",
       "1964     9480\n",
       "1952     9358\n",
       "1960     9235\n",
       "1980     8937\n",
       "1948     7480\n",
       "1936     7401\n",
       "1956     6434\n",
       "1924     5693\n",
       "1928     5574\n",
       "2014     4891\n",
       "2010     4402\n",
       "2006     4382\n",
       "1920     4292\n",
       "2002     4109\n",
       "1912     4040\n",
       "1998     3605\n",
       "1932     3321\n",
       "1994     3160\n",
       "1908     3101\n",
       "1900     1936\n",
       "1906     1733\n",
       "1904     1301\n",
       "1896      380\n",
       "Name: count, dtype: int64"
      ]
     },
     "execution_count": 37,
     "metadata": {},
     "output_type": "execute_result"
    }
   ],
   "source": [
    "import pandas as pd #import pandas library\n",
    "myDF = pd.read_csv(\"/anvil/projects/tdm/data/olympics/athlete_events.csv\") # read and store data\n",
    "myDF['Year'].value_counts() # find athletes competing each year"
   ]
  },
  {
   "cell_type": "code",
   "execution_count": 38,
   "id": "2fcce524-477a-4c53-bedb-0aa7ebee108f",
   "metadata": {},
   "outputs": [
    {
     "data": {
      "text/plain": [
       "<BarContainer object of 35 artists>"
      ]
     },
     "execution_count": 38,
     "metadata": {},
     "output_type": "execute_result"
    },
    {
     "data": {
      "image/png": "[encoded data removed]",
      "text/plain": [
       "<Figure size 640x480 with 1 Axes>"
      ]
     },
     "metadata": {},
     "output_type": "display_data"
    }
   ],
   "source": [
    "import matplotlib.pyplot as plt # import matplot lib\n",
    "mycounts = myDF['Year'].value_counts() # look through years values\n",
    "plt.bar(mycounts.index, mycounts) # make bar graph"
   ]
  },
  {
   "cell_type": "markdown",
   "id": "b456e57c-4a12-464b-999a-ef2df5af80c1",
   "metadata": {},
   "source": [
    "Markdown notes and sentences and analysis written here."
   ]
  },
  {
   "cell_type": "markdown",
   "id": "fc601975-35ed-4680-a4e1-0273ee3cc047",
   "metadata": {},
   "source": [
    "## Question 2"
   ]
  },
  {
   "cell_type": "code",
   "execution_count": 39,
   "id": "a16336a1-1ef0-41e8-bc7c-49387db27497",
   "metadata": {},
   "outputs": [
    {
     "data": {
      "text/plain": [
       "'USA'"
      ]
     },
     "execution_count": 39,
     "metadata": {},
     "output_type": "execute_result"
    }
   ],
   "source": [
    "myDF['NOC'].mode()[0] # find value that appears the most in the NOC column"
   ]
  },
  {
   "cell_type": "code",
   "execution_count": 40,
   "id": "5b66c35f-b139-4a9d-8623-effd90f7b713",
   "metadata": {},
   "outputs": [
    {
     "data": {
      "text/plain": [
       "'Robert Tait McKenzie'"
      ]
     },
     "execution_count": 40,
     "metadata": {},
     "output_type": "execute_result"
    }
   ],
   "source": [
    "myDF['Name'].mode()[0] # find value that appears the most in the name column "
   ]
  },
  {
   "cell_type": "markdown",
   "id": "14dc22d4-ddc3-41cc-a91a-cb0025bc0c80",
   "metadata": {},
   "source": [
    "Markdown notes and sentences and analysis written here."
   ]
  },
  {
   "cell_type": "markdown",
   "id": "8e586edd-ff26-4ce2-8f6b-2424b26f2929",
   "metadata": {},
   "source": [
    "## Question 3"
   ]
  },
  {
   "cell_type": "code",
   "execution_count": 41,
   "id": "bbe0f40d-9655-4653-9ca8-886bdb61cb91",
   "metadata": {},
   "outputs": [
    {
     "data": {
      "text/plain": [
       "3424"
      ]
     },
     "execution_count": 41,
     "metadata": {},
     "output_type": "execute_result"
    }
   ],
   "source": [
    "(myDF['Team'] == 'Denmark').sum() # find the number of teams that are Denmark"
   ]
  },
  {
   "cell_type": "code",
   "execution_count": 42,
   "id": "a6411875-0cb1-4419-9f7b-42f60f76a1c4",
   "metadata": {},
   "outputs": [
    {
     "data": {
      "text/plain": [
       "3496"
      ]
     },
     "execution_count": 42,
     "metadata": {},
     "output_type": "execute_result"
    }
   ],
   "source": [
    "myDF['Team'].str.contains('Denmark').sum() # find teams that contain denmark in them"
   ]
  },
  {
   "cell_type": "code",
   "execution_count": 43,
   "id": "c709a163-71e0-4efc-bcbc-e31183da3844",
   "metadata": {},
   "outputs": [
    {
     "data": {
      "text/plain": [
       "Team\n",
       "Denmark-2            30\n",
       "Denmark-1            30\n",
       "Denmark/Sweden        6\n",
       "Miss Denmark 1964     2\n",
       "Denmark-3             2\n",
       "Denmark-4             2\n",
       "Name: count, dtype: int64"
      ]
     },
     "execution_count": 43,
     "metadata": {},
     "output_type": "execute_result"
    }
   ],
   "source": [
    "myDF[(myDF['Team'].str.contains('Denmark')) & (myDF['Team'] != 'Denmark')]['Team'].value_counts() # find teams that have denmark but not equal to denmark "
   ]
  },
  {
   "cell_type": "markdown",
   "id": "47c6229f-35f7-400c-8366-c442baa5cf47",
   "metadata": {},
   "source": [
    "Markdown notes and sentences and analysis written here."
   ]
  },
  {
   "cell_type": "markdown",
   "id": "da22f29c-d245-4d2b-9fc1-ca14cb6087d9",
   "metadata": {},
   "source": [
    "## Question 4"
   ]
  },
  {
   "cell_type": "code",
   "execution_count": 44,
   "id": "8cffc767-d1c8-4d64-b7dc-f0d2ee8a80d1",
   "metadata": {},
   "outputs": [],
   "source": [
    "myDF = pd.read_csv(\"/anvil/projects/tdm/data/election/itcont1980.txt\", header=None, sep='|') # import data and read the elections data and save it to the dataframe\n",
    "myDF.columns = [\"CMTE_ID\", \"AMNDT_IND\", \"RPT_TP\", \"TRANSACTION_PGI\", \"IMAGE_NUM\", \"TRANSACTION_TP\", \"ENTITY_TP\", \"NAME\", \"CITY\", \"STATE\", \"ZIP_CODE\", \"EMPLOYER\", \"OCCUPATION\", \"TRANSACTION_DT\", \"TRANSACTION_AMT\", \"OTHER_ID\", \"TRAN_ID\", \"FILE_NUM\", \"MEMO_CD\", \"MEMO_TEXT\", \"SUB_ID\"] # name the columns "
   ]
  },
  {
   "cell_type": "code",
   "execution_count": 45,
   "id": "c2fb6e4d-8691-48f3-9e5b-1fc805f1a73b",
   "metadata": {},
   "outputs": [
    {
     "data": {
      "text/plain": [
       "STATE\n",
       "CA    37069\n",
       "Name: count, dtype: int64"
      ]
     },
     "execution_count": 45,
     "metadata": {},
     "output_type": "execute_result"
    }
   ],
   "source": [
    "myDF['STATE'].value_counts().head(1) # find most common state and number of times\n"
   ]
  },
  {
   "cell_type": "code",
   "execution_count": 46,
   "id": "22a3fb06-8fe0-4ddf-acaf-28c449a0a764",
   "metadata": {},
   "outputs": [
    {
     "data": {
      "text/plain": [
       "NAME\n",
       "AMERICAN MEDICAL POLITICAL ACTION COMMITTEE    769\n",
       "Name: count, dtype: int64"
      ]
     },
     "execution_count": 46,
     "metadata": {},
     "output_type": "execute_result"
    }
   ],
   "source": [
    "myDF['NAME'].value_counts().head(1) # find most common name and the amount of times"
   ]
  },
  {
   "cell_type": "markdown",
   "id": "0d552245-b4d6-474a-9cc9-fa7b8e674d55",
   "metadata": {},
   "source": [
    "Markdown notes and sentences and analysis written here."
   ]
  },
  {
   "cell_type": "markdown",
   "id": "88c9cdac-3e92-498f-83fa-e089bfc44ac8",
   "metadata": {},
   "source": [
    "## Question 5"
   ]
  },
  {
   "cell_type": "code",
   "execution_count": 47,
   "id": "d370d7c9-06db-42b9-b75f-240481a5c491",
   "metadata": {},
   "outputs": [],
   "source": [
    "myDF = pd.read_csv(\"/anvil/projects/tdm/data/election/itcont1980.txt\", header=None, sep='|') # import data and read the elections data and save it to the dataframe\n",
    "myDF.columns = [\"CMTE_ID\", \"AMNDT_IND\", \"RPT_TP\", \"TRANSACTION_PGI\", \"IMAGE_NUM\", \"TRANSACTION_TP\", \"ENTITY_TP\", \"NAME\", \"CITY\", \"STATE\", \"ZIP_CODE\", \"EMPLOYER\", \"OCCUPATION\", \"TRANSACTION_DT\", \"TRANSACTION_AMT\", \"OTHER_ID\", \"TRAN_ID\", \"FILE_NUM\", \"MEMO_CD\", \"MEMO_TEXT\", \"SUB_ID\"] # name the columns "
   ]
  },
  {
   "cell_type": "code",
   "execution_count": 48,
   "id": "92ea25c4-dd2a-4b55-a092-2357fbcfbcd9",
   "metadata": {},
   "outputs": [
    {
     "data": {
      "text/plain": [
       "CITY         STATE\n",
       "NEW YORK     NY       13860\n",
       "NaN          NaN      11582\n",
       "HOUSTON      TX       10146\n",
       "DALLAS       TX        6437\n",
       "WASHINGTON   DC        5890\n",
       "LOS ANGELES  CA        5866\n",
       "Name: count, dtype: int64"
      ]
     },
     "execution_count": 48,
     "metadata": {},
     "output_type": "execute_result"
    }
   ],
   "source": [
    "pd.concat([myDF['CITY'], myDF['STATE']], axis = 1).value_counts(dropna = False).head(6) # Combines the 'CITY' and 'STATE' columns, counts occurrences of each city-state pair (including NaN values), and displays the top 6. One value represents the number of missing city-state entries, while the other five show the most common donation locations."
   ]
  },
  {
   "cell_type": "markdown",
   "id": "9fbf00fb-2418-460f-ae94-2a32b0c28952",
   "metadata": {},
   "source": [
    "Markdown notes and sentences and analysis written here."
   ]
  },
  {
   "cell_type": "markdown",
   "id": "f76442d6-d02e-4f26-b9d6-c3183e1d6929",
   "metadata": {},
   "source": [
    "## Pledge\n",
    "\n",
    "By submitting this work I hereby pledge that this is my own, personal work. I've acknowledged in the designated place at the top of this file all sources that I used to complete said work, including but not limited to: online resources, books, and electronic communications. I've noted all collaboration with fellow students and/or TA's. I did not copy or plagiarize another's work.\n",
    "\n",
    "> As a Boilermaker pursuing academic excellence, I pledge to be honest and true in all that I do. Accountable together – We are Purdue."
   ]
  }
 ],
 "metadata": {
  "kernelspec": {
   "display_name": "seminar",
   "language": "python",
   "name": "python3"
  },
  "language_info": {
   "codemirror_mode": {
    "name": "ipython",
    "version": 3
   },
   "file_extension": ".py",
   "mimetype": "text/x-python",
   "name": "python",
   "nbconvert_exporter": "python",
   "pygments_lexer": "ipython3",
   "version": "3.11.5"
  }
 },
 "nbformat": 4,
 "nbformat_minor": 5
}
